{
  "cells": [
    {
      "cell_type": "markdown",
      "metadata": {
        "id": "qXs09RNmu-WO"
      },
      "source": [
        "# Exploring Pitch, ZCR, and MFCC Features for Deceptive Story Classification"
      ]
    },
    {
      "cell_type": "markdown",
      "metadata": {
        "id": "ZaGn4ICrfqXZ"
      },
      "source": [
        "# 1 Author\n",
        "\n",
        "**Student Name**: Charles Man\n",
        "\n",
        "**Student ID**: 240758440\n",
        "\n"
      ]
    },
    {
      "cell_type": "markdown",
      "metadata": {
        "id": "o38VQkcdKd6k"
      },
      "source": [
        "# 2 Problem formulation\n",
        "\n",
        "The machine learning problem that I want to solve is predicting whether a narrated story is true or not. Specifically, I will build a machine learning model that takes as an input an audio recording of 30 seconds of duration and predicts whether the story being narrated is true or deceptive. This problem is unique because it combines elements of speech processing, behavioral analysis, and machine learning to tackle the complex and nuanced task of deception detection. This task relies on features extracted from audio recordings, such as pitch, zero-crossing rate, and MFCCs, which capture subtle vocal cues that may indicate deceptive behavior. Additionally, the temporal and psychological dynamics of storytelling make this problem challenging and different from conventional classification tasks, as it requires models to discern patterns that are often subconscious and dependent on context. It is also important to note that the audio recordings are in different languages, which is a factor that should be taken into account."
      ]
    },
    {
      "cell_type": "markdown",
      "metadata": {
        "id": "bPTSuaB9L2jU"
      },
      "source": [
        "# 3 Methodology\n",
        "\n",
        "**Training Task**\n",
        "\n",
        "1. Feature Selection\n",
        "\n",
        " * Pitch - mean: average pitch\n",
        " * Pitch - standard deviation: pitch variability\n",
        " * Mel-frequency cepstral coefficients (MFCCs): spectral envelope of audio\n",
        " * Zero-crossing rate: frequency of  sign changes, correlating with signal texture\n",
        "\n",
        "2. Data Preparation\n",
        "\n",
        " * Slice each audio file into four 30-second segments.\n",
        " * Split the dataset into training (80%) and testing (20%) sets, ensuring that all segments of a file go into the same split.\n",
        "\n",
        "3. Training Process\n",
        "\n",
        " * Extract the selected features from each audio file using Librosa.\n",
        " * Standardize the features using StandardScaler to ensure feature comparability.\n",
        " * Use logistic regression and train the model on the training set using the features as predictors and the binary labels (true_story/deceptive_story) as targets.\n",
        "\n",
        "**Validation Task**\n",
        "\n",
        "* Perform 5-fold cross-validation on the training set:\n",
        " * Split the training data into five subsets, train on four subsets, and validate on the fifth.\n",
        " * Rotate the validation subset across folds to ensure every sample is used for both training and validation.\n",
        "\n",
        "**Performance Metrics**\n",
        "\n",
        "* 5-fold cross-validation accuracy\n",
        "* Confusion matrix\n",
        "* Classification report"
      ]
    },
    {
      "cell_type": "markdown",
      "metadata": {
        "id": "N3BwrtEdLDit"
      },
      "source": [
        "# 4 Implemented ML prediction pipelines\n",
        "\n",
        "**Overview**\n",
        "\n",
        "* Input: raw audio recordings (30 sec long) in .wav format\n",
        "* Output: binary classification prediction (true_story/deceptive_story) for each segment\n",
        "* Pipeline stages:\n",
        " 1. Transformation: feature extraction and preprocessing of raw audio data\n",
        " 2. Model: logistic regression model training and evaluation"
      ]
    },
    {
      "cell_type": "markdown",
      "metadata": {
        "id": "j1nDXnzYLLH6"
      },
      "source": [
        "## 4.1 Transformation stage\n",
        "\n",
        "The transformation stage involves extracting relevant features from the raw audio recordings. These features are crucial for the ML model to identify patterns associated with true and deceptive stories.\n",
        "\n",
        "**Input**\n",
        "\n",
        "* Raw audio recordings (30 sec each) in .wav format\n",
        "\n",
        "**Process**\n",
        "\n",
        "1. Feature Extraction (Librosa)\n",
        "\n",
        " * Pitch - mean: the average pitch of the audio signal over the 30-sec duration, which can provide insight into the speaker's tone.\n",
        " * Pitch - standard deviation: the variation in pitch, which can help distinguish emotional and vocal variations between true and false narratives.\n",
        " * Mel-frequency cepstral coefficients (MFCCs): the spectral envelope of audio, capturing key features of speech that are critical for distinguishing phonetic and speaker characteristics.\n",
        " * Zero-crossing rate (ZCR): the rate at which the audio signal changes polarity, providing a sense of speech texture and rhythm.\n",
        "\n",
        "2. Standardization\n",
        "\n",
        " * The data will be standardized using StandardScaler from scikit-learn to ensure that all features are on a comparable scale, as logistic regression is sensitive to feature scaling.\n",
        "\n",
        "**Output**\n",
        "\n",
        "* Feature matrix consisting of the four features for each audio sample.\n",
        "\n",
        "**Why this transformation?**\n",
        "\n",
        "This transformation extracts features that capture key characteristics of speech, such as pitch variability, rhythm, and spectral properties, which are essential for distinguishing between true and deceptive narratives. Standardizing the features ensures that all inputs contribute equally to the model, improving its performance and interpretability."
      ]
    },
    {
      "cell_type": "markdown",
      "metadata": {
        "id": "0F5_kI95LuZ2"
      },
      "source": [
        "## 4.2 Model stage\n",
        "\n",
        "In this stage, the ML model is trained and evaluated. Given the problem's binary classification nature, logistic regression is chosen as the model for predicting whether a story is true or deceptive.\n",
        "\n",
        "**Input**\n",
        "\n",
        "* Feature matrix containing the four standardized features for each sample\n",
        "* Binary labels (true_story/deceptive_story) for each story\n",
        "\n",
        "**Process**\n",
        "\n",
        "1. Model Training\n",
        "\n",
        " * Logistic regression will be used for training the model on the training dataset. The model will learn the relationship between the extracted features and the target variable (true_story/deceptive_story).\n",
        "\n",
        "2. Model Evaluation\n",
        "\n",
        " * The model's performance will be evaluated on the test set, with the help of 5-fold cross-validation.\n",
        "\n",
        "**Output**\n",
        "\n",
        "* Trained logistic regression model, capable of predicting whether a narrated story is true or deceptive based on the input features\n",
        "\n",
        "**Why logistic regression?**\n",
        "\n",
        "* Simple yet effective model for binary classification tasks\n",
        "* Interpretable, allowing for analysis of the relationship between the input features and the predicted outcome\n",
        "* Works well with standardized numerical features"
      ]
    },
    {
      "cell_type": "markdown",
      "metadata": {
        "id": "HZQPxztuL9AW"
      },
      "source": [
        "# 5 Dataset\n",
        "\n",
        "**Dataset Preparation**\n",
        "\n",
        "1. Dataset Loading\n",
        "\n",
        "  * Import libraries.\n",
        "  * Download and load the MLEnd Deception Dataset using the `mlend` library.\n",
        "\n",
        "2. Metadata Extraction\n",
        "\n",
        " * Metadata is uploaded from a CSV file containing language and story type information.\n",
        " * Features (`X_paths`) consist of paths to .wav audio files, while labels (`Y`) denote their corresponding classes (true_story or deceptive_story).\n",
        "\n",
        "3. File Path Handling\n",
        "\n",
        " * Retrieve the paths of all .wav files for further audio processing and visualization.\n",
        "\n",
        "4. Train-Test Splitting\n",
        "\n",
        " * Split the data into training (80%) and testing (20%) sets using `train_test_split`.\n",
        "\n",
        "5. Segmentation\n",
        "\n",
        " * Create a segmentation function.\n",
        " * Slice each audio file in both datasets into four 30-second segments."
      ]
    },
    {
      "cell_type": "code",
      "source": [
        "# 1. Dataset Loading\n",
        "import numpy as np\n",
        "import pandas as pd\n",
        "import matplotlib.pyplot as plt\n",
        "import random\n",
        "from sklearn.model_selection import train_test_split\n",
        "\n",
        "import os, sys, re, pickle, glob\n",
        "import urllib.request\n",
        "import zipfile\n",
        "\n",
        "import IPython.display as ipd\n",
        "from tqdm import tqdm\n",
        "import librosa\n",
        "\n",
        "!pip install mlend==1.0.0.4\n",
        "\n",
        "import mlend\n",
        "from mlend import download_deception_small, deception_small_load\n",
        "\n",
        "datadir = download_deception_small(save_to='MLEnd', subset={}, verbose=1, overwrite=False)\n",
        "TrainSet, TestSet, MAPs = deception_small_load(datadir_main=datadir, train_test_split=None, verbose=1, encode_labels=True)\n",
        "\n",
        "# 2. Metadata Extraction\n",
        "metadata = pd.read_csv('MLEnd/deception/MLEndDD_story_attributes_small.csv').set_index('filename')\n",
        "metadata['label'] = metadata['Story_type'].map({'true_story': 0, 'deceptive_story': 1})\n",
        "\n",
        "# 3. File Path Handling\n",
        "path = 'MLEnd/deception/MLEndDD_stories_small/*.wav'\n",
        "files = glob.glob(path)\n",
        "\n",
        "# 4. Train-Test Splitting\n",
        "file_names = [file.split('/')[-1] for file in files]\n",
        "train_files, test_files = train_test_split(file_names, test_size=0.3, random_state=42)\n",
        "\n",
        "# 5. Segmentation\n",
        "def segment(files, metadata, segment_length=30, sr=8000, num_segments_per_file=2):\n",
        "    data = []\n",
        "    labels = []\n",
        "\n",
        "    for file in tqdm(files, desc=\"Segmenting and Normalizing Files\"):\n",
        "        x, fs = librosa.load(f'MLEnd/deception/MLEndDD_stories_small/{file}', sr=sr)\n",
        "        total_samples = len(x)\n",
        "        segment_samples = segment_length * sr\n",
        "\n",
        "        # Split into segments\n",
        "        segments = [\n",
        "            x[i:i+segment_samples]\n",
        "            for i in range(0, total_samples, segment_samples)\n",
        "            if len(x[i:i+segment_samples]) == segment_samples\n",
        "        ]\n",
        "\n",
        "        # Randomly sample segments if there are more than the required number\n",
        "        if len(segments) > num_segments_per_file:\n",
        "            segments = random.sample(segments, num_segments_per_file)\n",
        "\n",
        "        # If there are fewer segments than required, add zeroed segments\n",
        "        while len(segments) < num_segments_per_file:\n",
        "            segments.append(np.zeros(segment_samples))\n",
        "\n",
        "        # Get the label for this file from the metadata\n",
        "        label = metadata.loc[file]['label']\n",
        "\n",
        "        # Append the segments and corresponding label\n",
        "        data.extend(segments)\n",
        "        # Assign label to each segment\n",
        "        labels.extend([label] * len(segments))\n",
        "\n",
        "    return data, labels\n",
        "\n",
        "X_train, Y_train = segment(train_files, metadata, segment_length=30, sr=22050, num_segments_per_file=2)\n",
        "X_test, Y_test = segment(test_files, metadata, segment_length=30, sr=22050, num_segments_per_file=2)\n",
        "\n",
        "print(f\"\\nNumber of training segments: {len(X_train)}\")\n",
        "print(f\"Number of testing segments: {len(X_test)}\")"
      ],
      "metadata": {
        "colab": {
          "base_uri": "https://localhost:8080/"
        },
        "id": "L9du7yBUvHey",
        "outputId": "42424df3-6e40-4d60-f80b-dea622fc8b3a"
      },
      "execution_count": 1,
      "outputs": [
        {
          "output_type": "stream",
          "name": "stdout",
          "text": [
            "Requirement already satisfied: mlend==1.0.0.4 in /usr/local/lib/python3.10/dist-packages (1.0.0.4)\n",
            "Requirement already satisfied: numpy<2.0 in /usr/local/lib/python3.10/dist-packages (from mlend==1.0.0.4) (1.26.4)\n",
            "Requirement already satisfied: pandas in /usr/local/lib/python3.10/dist-packages (from mlend==1.0.0.4) (2.2.2)\n",
            "Requirement already satisfied: scipy in /usr/local/lib/python3.10/dist-packages (from mlend==1.0.0.4) (1.13.1)\n",
            "Requirement already satisfied: matplotlib in /usr/local/lib/python3.10/dist-packages (from mlend==1.0.0.4) (3.8.0)\n",
            "Requirement already satisfied: joblib in /usr/local/lib/python3.10/dist-packages (from mlend==1.0.0.4) (1.4.2)\n",
            "Requirement already satisfied: spkit in /usr/local/lib/python3.10/dist-packages (from mlend==1.0.0.4) (0.0.9.7)\n",
            "Requirement already satisfied: contourpy>=1.0.1 in /usr/local/lib/python3.10/dist-packages (from matplotlib->mlend==1.0.0.4) (1.3.1)\n",
            "Requirement already satisfied: cycler>=0.10 in /usr/local/lib/python3.10/dist-packages (from matplotlib->mlend==1.0.0.4) (0.12.1)\n",
            "Requirement already satisfied: fonttools>=4.22.0 in /usr/local/lib/python3.10/dist-packages (from matplotlib->mlend==1.0.0.4) (4.55.0)\n",
            "Requirement already satisfied: kiwisolver>=1.0.1 in /usr/local/lib/python3.10/dist-packages (from matplotlib->mlend==1.0.0.4) (1.4.7)\n",
            "Requirement already satisfied: packaging>=20.0 in /usr/local/lib/python3.10/dist-packages (from matplotlib->mlend==1.0.0.4) (24.2)\n",
            "Requirement already satisfied: pillow>=6.2.0 in /usr/local/lib/python3.10/dist-packages (from matplotlib->mlend==1.0.0.4) (11.0.0)\n",
            "Requirement already satisfied: pyparsing>=2.3.1 in /usr/local/lib/python3.10/dist-packages (from matplotlib->mlend==1.0.0.4) (3.2.0)\n",
            "Requirement already satisfied: python-dateutil>=2.7 in /usr/local/lib/python3.10/dist-packages (from matplotlib->mlend==1.0.0.4) (2.8.2)\n",
            "Requirement already satisfied: pytz>=2020.1 in /usr/local/lib/python3.10/dist-packages (from pandas->mlend==1.0.0.4) (2024.2)\n",
            "Requirement already satisfied: tzdata>=2022.7 in /usr/local/lib/python3.10/dist-packages (from pandas->mlend==1.0.0.4) (2024.2)\n",
            "Requirement already satisfied: scikit-learn in /usr/local/lib/python3.10/dist-packages (from spkit->mlend==1.0.0.4) (1.5.2)\n",
            "Requirement already satisfied: python-picard in /usr/local/lib/python3.10/dist-packages (from spkit->mlend==1.0.0.4) (0.8)\n",
            "Requirement already satisfied: PyWavelets in /usr/local/lib/python3.10/dist-packages (from spkit->mlend==1.0.0.4) (1.8.0)\n",
            "Requirement already satisfied: pylfsr in /usr/local/lib/python3.10/dist-packages (from spkit->mlend==1.0.0.4) (1.0.7)\n",
            "Requirement already satisfied: h5py in /usr/local/lib/python3.10/dist-packages (from spkit->mlend==1.0.0.4) (3.12.1)\n",
            "Requirement already satisfied: seaborn in /usr/local/lib/python3.10/dist-packages (from spkit->mlend==1.0.0.4) (0.13.2)\n",
            "Requirement already satisfied: phyaat in /usr/local/lib/python3.10/dist-packages (from spkit->mlend==1.0.0.4) (0.0.3)\n",
            "Requirement already satisfied: six>=1.5 in /usr/local/lib/python3.10/dist-packages (from python-dateutil>=2.7->matplotlib->mlend==1.0.0.4) (1.16.0)\n",
            "Requirement already satisfied: threadpoolctl>=3.1.0 in /usr/local/lib/python3.10/dist-packages (from scikit-learn->spkit->mlend==1.0.0.4) (3.5.0)\n"
          ]
        },
        {
          "output_type": "stream",
          "name": "stderr",
          "text": [
            "<frozen importlib._bootstrap>:914: ImportWarning: _PyDrive2ImportHook.find_spec() not found; falling back to find_module()\n",
            "<frozen importlib._bootstrap>:914: ImportWarning: _PyDriveImportHook.find_spec() not found; falling back to find_module()\n",
            "<frozen importlib._bootstrap>:914: ImportWarning: _GenerativeAIImportHook.find_spec() not found; falling back to find_module()\n",
            "<frozen importlib._bootstrap>:914: ImportWarning: _OpenCVImportHook.find_spec() not found; falling back to find_module()\n",
            "<frozen importlib._bootstrap>:914: ImportWarning: APICoreClientInfoImportHook.find_spec() not found; falling back to find_module()\n",
            "<frozen importlib._bootstrap>:914: ImportWarning: _BokehImportHook.find_spec() not found; falling back to find_module()\n",
            "<frozen importlib._bootstrap>:914: ImportWarning: _AltairImportHook.find_spec() not found; falling back to find_module()\n",
            "<frozen importlib._bootstrap>:914: ImportWarning: _PyDrive2ImportHook.find_spec() not found; falling back to find_module()\n",
            "<frozen importlib._bootstrap>:914: ImportWarning: _PyDriveImportHook.find_spec() not found; falling back to find_module()\n",
            "<frozen importlib._bootstrap>:914: ImportWarning: _GenerativeAIImportHook.find_spec() not found; falling back to find_module()\n",
            "<frozen importlib._bootstrap>:914: ImportWarning: _OpenCVImportHook.find_spec() not found; falling back to find_module()\n",
            "<frozen importlib._bootstrap>:914: ImportWarning: APICoreClientInfoImportHook.find_spec() not found; falling back to find_module()\n",
            "<frozen importlib._bootstrap>:914: ImportWarning: _BokehImportHook.find_spec() not found; falling back to find_module()\n",
            "<frozen importlib._bootstrap>:914: ImportWarning: _AltairImportHook.find_spec() not found; falling back to find_module()\n",
            "<frozen importlib._bootstrap>:914: ImportWarning: _PyDrive2ImportHook.find_spec() not found; falling back to find_module()\n",
            "<frozen importlib._bootstrap>:914: ImportWarning: _PyDriveImportHook.find_spec() not found; falling back to find_module()\n",
            "<frozen importlib._bootstrap>:914: ImportWarning: _GenerativeAIImportHook.find_spec() not found; falling back to find_module()\n",
            "<frozen importlib._bootstrap>:914: ImportWarning: _OpenCVImportHook.find_spec() not found; falling back to find_module()\n",
            "<frozen importlib._bootstrap>:914: ImportWarning: APICoreClientInfoImportHook.find_spec() not found; falling back to find_module()\n",
            "<frozen importlib._bootstrap>:914: ImportWarning: _BokehImportHook.find_spec() not found; falling back to find_module()\n",
            "<frozen importlib._bootstrap>:914: ImportWarning: _AltairImportHook.find_spec() not found; falling back to find_module()\n",
            "<frozen importlib._bootstrap>:914: ImportWarning: _PyDrive2ImportHook.find_spec() not found; falling back to find_module()\n",
            "<frozen importlib._bootstrap>:914: ImportWarning: _PyDriveImportHook.find_spec() not found; falling back to find_module()\n",
            "<frozen importlib._bootstrap>:914: ImportWarning: _GenerativeAIImportHook.find_spec() not found; falling back to find_module()\n",
            "<frozen importlib._bootstrap>:914: ImportWarning: _OpenCVImportHook.find_spec() not found; falling back to find_module()\n",
            "<frozen importlib._bootstrap>:914: ImportWarning: APICoreClientInfoImportHook.find_spec() not found; falling back to find_module()\n",
            "<frozen importlib._bootstrap>:914: ImportWarning: _BokehImportHook.find_spec() not found; falling back to find_module()\n",
            "<frozen importlib._bootstrap>:914: ImportWarning: _AltairImportHook.find_spec() not found; falling back to find_module()\n",
            "<frozen importlib._bootstrap>:914: ImportWarning: _PyDrive2ImportHook.find_spec() not found; falling back to find_module()\n",
            "<frozen importlib._bootstrap>:914: ImportWarning: _PyDriveImportHook.find_spec() not found; falling back to find_module()\n",
            "<frozen importlib._bootstrap>:914: ImportWarning: _GenerativeAIImportHook.find_spec() not found; falling back to find_module()\n",
            "<frozen importlib._bootstrap>:914: ImportWarning: _OpenCVImportHook.find_spec() not found; falling back to find_module()\n",
            "<frozen importlib._bootstrap>:914: ImportWarning: APICoreClientInfoImportHook.find_spec() not found; falling back to find_module()\n",
            "<frozen importlib._bootstrap>:914: ImportWarning: _BokehImportHook.find_spec() not found; falling back to find_module()\n",
            "<frozen importlib._bootstrap>:914: ImportWarning: _AltairImportHook.find_spec() not found; falling back to find_module()\n",
            "<frozen importlib._bootstrap>:914: ImportWarning: _PyDrive2ImportHook.find_spec() not found; falling back to find_module()\n",
            "<frozen importlib._bootstrap>:914: ImportWarning: _PyDriveImportHook.find_spec() not found; falling back to find_module()\n",
            "<frozen importlib._bootstrap>:914: ImportWarning: _GenerativeAIImportHook.find_spec() not found; falling back to find_module()\n",
            "<frozen importlib._bootstrap>:914: ImportWarning: _OpenCVImportHook.find_spec() not found; falling back to find_module()\n",
            "<frozen importlib._bootstrap>:914: ImportWarning: APICoreClientInfoImportHook.find_spec() not found; falling back to find_module()\n",
            "<frozen importlib._bootstrap>:914: ImportWarning: _BokehImportHook.find_spec() not found; falling back to find_module()\n",
            "<frozen importlib._bootstrap>:914: ImportWarning: _AltairImportHook.find_spec() not found; falling back to find_module()\n",
            "<frozen importlib._bootstrap>:914: ImportWarning: _PyDrive2ImportHook.find_spec() not found; falling back to find_module()\n",
            "<frozen importlib._bootstrap>:914: ImportWarning: _PyDriveImportHook.find_spec() not found; falling back to find_module()\n",
            "<frozen importlib._bootstrap>:914: ImportWarning: _GenerativeAIImportHook.find_spec() not found; falling back to find_module()\n",
            "<frozen importlib._bootstrap>:914: ImportWarning: _OpenCVImportHook.find_spec() not found; falling back to find_module()\n",
            "<frozen importlib._bootstrap>:914: ImportWarning: APICoreClientInfoImportHook.find_spec() not found; falling back to find_module()\n",
            "<frozen importlib._bootstrap>:914: ImportWarning: _BokehImportHook.find_spec() not found; falling back to find_module()\n",
            "<frozen importlib._bootstrap>:914: ImportWarning: _AltairImportHook.find_spec() not found; falling back to find_module()\n",
            "<frozen importlib._bootstrap>:914: ImportWarning: _PyDrive2ImportHook.find_spec() not found; falling back to find_module()\n",
            "<frozen importlib._bootstrap>:914: ImportWarning: _PyDriveImportHook.find_spec() not found; falling back to find_module()\n",
            "<frozen importlib._bootstrap>:914: ImportWarning: _GenerativeAIImportHook.find_spec() not found; falling back to find_module()\n",
            "<frozen importlib._bootstrap>:914: ImportWarning: _OpenCVImportHook.find_spec() not found; falling back to find_module()\n",
            "<frozen importlib._bootstrap>:914: ImportWarning: APICoreClientInfoImportHook.find_spec() not found; falling back to find_module()\n",
            "<frozen importlib._bootstrap>:914: ImportWarning: _BokehImportHook.find_spec() not found; falling back to find_module()\n",
            "<frozen importlib._bootstrap>:914: ImportWarning: _AltairImportHook.find_spec() not found; falling back to find_module()\n",
            "<frozen importlib._bootstrap>:914: ImportWarning: _PyDrive2ImportHook.find_spec() not found; falling back to find_module()\n",
            "<frozen importlib._bootstrap>:914: ImportWarning: _PyDriveImportHook.find_spec() not found; falling back to find_module()\n",
            "<frozen importlib._bootstrap>:914: ImportWarning: _GenerativeAIImportHook.find_spec() not found; falling back to find_module()\n",
            "<frozen importlib._bootstrap>:914: ImportWarning: _OpenCVImportHook.find_spec() not found; falling back to find_module()\n",
            "<frozen importlib._bootstrap>:914: ImportWarning: APICoreClientInfoImportHook.find_spec() not found; falling back to find_module()\n",
            "<frozen importlib._bootstrap>:914: ImportWarning: _BokehImportHook.find_spec() not found; falling back to find_module()\n",
            "<frozen importlib._bootstrap>:914: ImportWarning: _AltairImportHook.find_spec() not found; falling back to find_module()\n"
          ]
        },
        {
          "output_type": "stream",
          "name": "stdout",
          "text": [
            "Downloading 100 stories (audio files) from https://github.com/MLEndDatasets/Deception\n",
            " 77%|\u001b[92m▓▓▓▓▓▓▓▓▓▓▓▓▓▓▓▓▓▓▓▓▓▓▓▓▓▓▓▓▓▓▓▓▓▓▓▓▓▓            \u001b[0m|100\\77|00077.wav"
          ]
        },
        {
          "output_type": "stream",
          "name": "stderr",
          "text": [
            "<frozen importlib._bootstrap>:914: ImportWarning: _PyDrive2ImportHook.find_spec() not found; falling back to find_module()\n",
            "<frozen importlib._bootstrap>:914: ImportWarning: _PyDriveImportHook.find_spec() not found; falling back to find_module()\n",
            "<frozen importlib._bootstrap>:914: ImportWarning: _GenerativeAIImportHook.find_spec() not found; falling back to find_module()\n",
            "<frozen importlib._bootstrap>:914: ImportWarning: _OpenCVImportHook.find_spec() not found; falling back to find_module()\n",
            "<frozen importlib._bootstrap>:914: ImportWarning: APICoreClientInfoImportHook.find_spec() not found; falling back to find_module()\n",
            "<frozen importlib._bootstrap>:914: ImportWarning: _BokehImportHook.find_spec() not found; falling back to find_module()\n",
            "<frozen importlib._bootstrap>:914: ImportWarning: _AltairImportHook.find_spec() not found; falling back to find_module()\n"
          ]
        },
        {
          "output_type": "stream",
          "name": "stdout",
          "text": [
            "100%|\u001b[92m▓▓▓▓▓▓▓▓▓▓▓▓▓▓▓▓▓▓▓▓▓▓▓▓▓▓▓▓▓▓▓▓▓▓▓▓▓▓▓▓▓▓▓▓▓▓▓▓▓▓\u001b[0m|100\\100|00100.wav\n",
            "Done!\n",
            "Total 100 found in MLEnd/deception/MLEndDD_stories_small/\n"
          ]
        },
        {
          "output_type": "stream",
          "name": "stderr",
          "text": [
            "\rSegmenting and Normalizing Files:   0%|          | 0/70 [00:00<?, ?it/s]<frozen importlib._bootstrap>:914: ImportWarning: _PyDrive2ImportHook.find_spec() not found; falling back to find_module()\n",
            "<frozen importlib._bootstrap>:914: ImportWarning: _PyDriveImportHook.find_spec() not found; falling back to find_module()\n",
            "<frozen importlib._bootstrap>:914: ImportWarning: _GenerativeAIImportHook.find_spec() not found; falling back to find_module()\n",
            "<frozen importlib._bootstrap>:914: ImportWarning: _OpenCVImportHook.find_spec() not found; falling back to find_module()\n",
            "<frozen importlib._bootstrap>:914: ImportWarning: APICoreClientInfoImportHook.find_spec() not found; falling back to find_module()\n",
            "<frozen importlib._bootstrap>:914: ImportWarning: _BokehImportHook.find_spec() not found; falling back to find_module()\n",
            "<frozen importlib._bootstrap>:914: ImportWarning: _AltairImportHook.find_spec() not found; falling back to find_module()\n",
            "<frozen importlib._bootstrap>:914: ImportWarning: _PyDrive2ImportHook.find_spec() not found; falling back to find_module()\n",
            "<frozen importlib._bootstrap>:914: ImportWarning: _PyDriveImportHook.find_spec() not found; falling back to find_module()\n",
            "<frozen importlib._bootstrap>:914: ImportWarning: _GenerativeAIImportHook.find_spec() not found; falling back to find_module()\n",
            "<frozen importlib._bootstrap>:914: ImportWarning: _OpenCVImportHook.find_spec() not found; falling back to find_module()\n",
            "<frozen importlib._bootstrap>:914: ImportWarning: APICoreClientInfoImportHook.find_spec() not found; falling back to find_module()\n",
            "<frozen importlib._bootstrap>:914: ImportWarning: _BokehImportHook.find_spec() not found; falling back to find_module()\n",
            "<frozen importlib._bootstrap>:914: ImportWarning: _AltairImportHook.find_spec() not found; falling back to find_module()\n",
            "<frozen importlib._bootstrap>:914: ImportWarning: _PyDrive2ImportHook.find_spec() not found; falling back to find_module()\n",
            "<frozen importlib._bootstrap>:914: ImportWarning: _PyDriveImportHook.find_spec() not found; falling back to find_module()\n",
            "<frozen importlib._bootstrap>:914: ImportWarning: _GenerativeAIImportHook.find_spec() not found; falling back to find_module()\n",
            "<frozen importlib._bootstrap>:914: ImportWarning: _OpenCVImportHook.find_spec() not found; falling back to find_module()\n",
            "<frozen importlib._bootstrap>:914: ImportWarning: APICoreClientInfoImportHook.find_spec() not found; falling back to find_module()\n",
            "<frozen importlib._bootstrap>:914: ImportWarning: _BokehImportHook.find_spec() not found; falling back to find_module()\n",
            "<frozen importlib._bootstrap>:914: ImportWarning: _AltairImportHook.find_spec() not found; falling back to find_module()\n",
            "<frozen importlib._bootstrap>:914: ImportWarning: _PyDrive2ImportHook.find_spec() not found; falling back to find_module()\n",
            "<frozen importlib._bootstrap>:914: ImportWarning: _PyDriveImportHook.find_spec() not found; falling back to find_module()\n",
            "<frozen importlib._bootstrap>:914: ImportWarning: _GenerativeAIImportHook.find_spec() not found; falling back to find_module()\n",
            "<frozen importlib._bootstrap>:914: ImportWarning: _OpenCVImportHook.find_spec() not found; falling back to find_module()\n",
            "<frozen importlib._bootstrap>:914: ImportWarning: APICoreClientInfoImportHook.find_spec() not found; falling back to find_module()\n",
            "<frozen importlib._bootstrap>:914: ImportWarning: _BokehImportHook.find_spec() not found; falling back to find_module()\n",
            "<frozen importlib._bootstrap>:914: ImportWarning: _AltairImportHook.find_spec() not found; falling back to find_module()\n",
            "Segmenting and Normalizing Files: 100%|██████████| 70/70 [00:28<00:00,  2.43it/s]\n",
            "Segmenting and Normalizing Files: 100%|██████████| 30/30 [00:05<00:00,  5.63it/s]"
          ]
        },
        {
          "output_type": "stream",
          "name": "stdout",
          "text": [
            "\n",
            "Number of training segments: 140\n",
            "Number of testing segments: 60\n"
          ]
        },
        {
          "output_type": "stream",
          "name": "stderr",
          "text": [
            "\n"
          ]
        }
      ]
    },
    {
      "cell_type": "markdown",
      "source": [
        "**Dataset Description**\n",
        "\n",
        "Training Set\n",
        "* 70% of the dataset.\n",
        "* Used for model training.\n",
        "\n",
        "Testing Set\n",
        "* 30% of the dataset.\n",
        "* Matches the training set in class proportions.\n",
        "* Independent evaluation of model performance.\n",
        "\n",
        "Metadata\n",
        "* Language, story type, and file paths.\n",
        "* Enables advanced analysis."
      ],
      "metadata": {
        "id": "p59LOEJelMWi"
      }
    },
    {
      "cell_type": "markdown",
      "source": [
        "**Exploratory Analysis and Visualizations**\n",
        "\n",
        "To understand the dataset better, we can explore the class distribution and audio metadata."
      ],
      "metadata": {
        "id": "EJkPr0KmaJbe"
      }
    },
    {
      "cell_type": "code",
      "source": [
        "print(metadata)\n",
        "unique, counts = np.unique(metadata['Story_type'], return_counts=True)\n",
        "class_distribution = dict(zip(unique, counts))\n",
        "print(\"\\nClass Distribution:\", class_distribution, \"\\n\")\n",
        "metadata['Language'].value_counts().plot(kind='bar', title='Language Distribution')\n",
        "plt.show()"
      ],
      "metadata": {
        "colab": {
          "base_uri": "https://localhost:8080/",
          "height": 1000
        },
        "id": "q3lAekFgaJ4o",
        "outputId": "8314f0dd-a480-4c26-fa66-efd9e69f1bd0"
      },
      "execution_count": 2,
      "outputs": [
        {
          "output_type": "stream",
          "name": "stderr",
          "text": [
            "/usr/local/lib/python3.10/dist-packages/ipykernel/ipkernel.py:283: DeprecationWarning: `should_run_async` will not call `transform_cell` automatically in the future. Please pass the result to `transformed_cell` argument and any exception that happen during thetransform in `preprocessing_exc_tuple` in IPython 7.17 and above.\n",
            "<frozen importlib._bootstrap>:914: ImportWarning: _PyDrive2ImportHook.find_spec() not found; falling back to find_module()\n",
            "<frozen importlib._bootstrap>:914: ImportWarning: _PyDriveImportHook.find_spec() not found; falling back to find_module()\n",
            "<frozen importlib._bootstrap>:914: ImportWarning: _GenerativeAIImportHook.find_spec() not found; falling back to find_module()\n",
            "<frozen importlib._bootstrap>:914: ImportWarning: _OpenCVImportHook.find_spec() not found; falling back to find_module()\n",
            "<frozen importlib._bootstrap>:914: ImportWarning: APICoreClientInfoImportHook.find_spec() not found; falling back to find_module()\n",
            "<frozen importlib._bootstrap>:914: ImportWarning: _BokehImportHook.find_spec() not found; falling back to find_module()\n",
            "<frozen importlib._bootstrap>:914: ImportWarning: _AltairImportHook.find_spec() not found; falling back to find_module()\n",
            "<frozen importlib._bootstrap>:914: ImportWarning: _PyDrive2ImportHook.find_spec() not found; falling back to find_module()\n",
            "<frozen importlib._bootstrap>:914: ImportWarning: _PyDriveImportHook.find_spec() not found; falling back to find_module()\n",
            "<frozen importlib._bootstrap>:914: ImportWarning: _GenerativeAIImportHook.find_spec() not found; falling back to find_module()\n",
            "<frozen importlib._bootstrap>:914: ImportWarning: _OpenCVImportHook.find_spec() not found; falling back to find_module()\n",
            "<frozen importlib._bootstrap>:914: ImportWarning: APICoreClientInfoImportHook.find_spec() not found; falling back to find_module()\n",
            "<frozen importlib._bootstrap>:914: ImportWarning: _BokehImportHook.find_spec() not found; falling back to find_module()\n",
            "<frozen importlib._bootstrap>:914: ImportWarning: _AltairImportHook.find_spec() not found; falling back to find_module()\n"
          ]
        },
        {
          "output_type": "stream",
          "name": "stdout",
          "text": [
            "          Language       Story_type  label\n",
            "filename                                  \n",
            "00001.wav    Hindi  deceptive_story      1\n",
            "00002.wav  English       true_story      0\n",
            "00003.wav  English  deceptive_story      1\n",
            "00004.wav  Bengali  deceptive_story      1\n",
            "00005.wav  English  deceptive_story      1\n",
            "...            ...              ...    ...\n",
            "00096.wav  English  deceptive_story      1\n",
            "00097.wav  English       true_story      0\n",
            "00098.wav  English  deceptive_story      1\n",
            "00099.wav  English       true_story      0\n",
            "00100.wav  English  deceptive_story      1\n",
            "\n",
            "[100 rows x 3 columns]\n",
            "\n",
            "Class Distribution: {'deceptive_story': 50, 'true_story': 50} \n",
            "\n"
          ]
        },
        {
          "output_type": "stream",
          "name": "stderr",
          "text": [
            "<frozen importlib._bootstrap>:914: ImportWarning: _PyDrive2ImportHook.find_spec() not found; falling back to find_module()\n",
            "<frozen importlib._bootstrap>:914: ImportWarning: _PyDriveImportHook.find_spec() not found; falling back to find_module()\n",
            "<frozen importlib._bootstrap>:914: ImportWarning: _GenerativeAIImportHook.find_spec() not found; falling back to find_module()\n",
            "<frozen importlib._bootstrap>:914: ImportWarning: _OpenCVImportHook.find_spec() not found; falling back to find_module()\n",
            "<frozen importlib._bootstrap>:914: ImportWarning: APICoreClientInfoImportHook.find_spec() not found; falling back to find_module()\n",
            "<frozen importlib._bootstrap>:914: ImportWarning: _BokehImportHook.find_spec() not found; falling back to find_module()\n",
            "<frozen importlib._bootstrap>:914: ImportWarning: _AltairImportHook.find_spec() not found; falling back to find_module()\n"
          ]
        },
        {
          "output_type": "display_data",
          "data": {
            "text/plain": [
              "<Figure size 640x480 with 1 Axes>"
            ],
            "image/png": "[encoded data removed]"
          },
          "metadata": {}
        }
      ]
    },
    {
      "cell_type": "markdown",
      "source": [
        "**Limitations**\n",
        "\n",
        "1. Dataset Size\n",
        "\n",
        " * The small subset might limit the generalizability of the results. Models trained on this dataset might not scale effectively to larger or more diverse datasets.\n",
        "\n",
        "2. Audio Quality\n",
        "\n",
        " * Variations in audio quality due to factors like background noise or recording device differences could affect model robustness."
      ],
      "metadata": {
        "id": "ODh6DCcfa_HA"
      }
    },
    {
      "cell_type": "markdown",
      "metadata": {
        "id": "2qf7GN1aeXJI"
      },
      "source": [
        "# 6 Experiments and results"
      ]
    },
    {
      "cell_type": "code",
      "source": [
        "from sklearn.linear_model import LogisticRegression\n",
        "from sklearn.metrics import classification_report, confusion_matrix, accuracy_score\n",
        "from sklearn.preprocessing import StandardScaler\n",
        "from sklearn.model_selection import StratifiedKFold\n",
        "\n",
        "def getPitch(x, fs, winLen=0.02, frame_length=2048, hop_length=512):\n",
        "    f0, voiced_flag, voiced_probs = librosa.pyin(\n",
        "        y=x, fmin=80, fmax=450, sr=fs, frame_length=frame_length, hop_length=hop_length\n",
        "    )\n",
        "    return f0, voiced_flag\n",
        "\n",
        "def extract_features(data_segments, labels):\n",
        "    X = []\n",
        "    for segment in tqdm(data_segments):\n",
        "        # Pitch features\n",
        "        f0, _ = getPitch(segment, fs=8000, winLen=0.02)\n",
        "        pitch_mean = np.nanmean(f0) if np.mean(np.isnan(f0)) < 1 else 0\n",
        "        pitch_std = np.nanstd(f0) if np.mean(np.isnan(f0)) < 1 else 0\n",
        "\n",
        "        # Zero-crossing rate\n",
        "        zcr = np.mean(librosa.feature.zero_crossing_rate(y=segment))\n",
        "\n",
        "        # MFCCs\n",
        "        mfccs = np.mean(librosa.feature.mfcc(y=segment, sr=8000, n_mfcc=13), axis=1)\n",
        "\n",
        "        features = [pitch_mean, pitch_std, zcr] + list(mfccs)\n",
        "        X.append(features)\n",
        "\n",
        "    return np.array(X), np.array(labels)\n",
        "\n",
        "# Extract features\n",
        "X_train_features, Y_train_labels = extract_features(X_train, Y_train)\n",
        "X_test_features, Y_test_labels = extract_features(X_test, Y_test)\n",
        "\n",
        "print(f\"\\nShape of X_train_features: {X_train_features.shape}\")\n",
        "print(f\"Shape of X_test_features: {X_test_features.shape}\")\n",
        "\n",
        "# Scale data\n",
        "scaler = StandardScaler()\n",
        "X_train_scaled = scaler.fit_transform(X_train_features)\n",
        "X_test_scaled = scaler.transform(X_test_features)\n",
        "\n",
        "# Initialize Logistic Regression model\n",
        "clf = LogisticRegression(random_state=42, max_iter=1000)\n",
        "\n",
        "# 5-fold cross-validation\n",
        "kf = StratifiedKFold(n_splits=5, shuffle=True, random_state=42)\n",
        "training_accuracies = []\n",
        "validation_accuracies = []\n",
        "\n",
        "print(\"\\nPerforming 5-fold cross-validation...\")\n",
        "for train_index, val_index in kf.split(X_train_scaled, Y_train_labels):\n",
        "    X_train_fold, X_val_fold = X_train_scaled[train_index], X_train_scaled[val_index]\n",
        "    Y_train_fold, Y_val_fold = Y_train_labels[train_index], Y_train_labels[val_index]\n",
        "\n",
        "    clf.fit(X_train_fold, Y_train_fold)\n",
        "\n",
        "    train_accuracy = accuracy_score(Y_train_fold, clf.predict(X_train_fold))\n",
        "    training_accuracies.append(train_accuracy)\n",
        "\n",
        "    val_accuracy = accuracy_score(Y_val_fold, clf.predict(X_val_fold))\n",
        "    validation_accuracies.append(val_accuracy)\n",
        "\n",
        "mean_train_acc = np.mean(training_accuracies)\n",
        "mean_val_acc = np.mean(validation_accuracies)\n",
        "\n",
        "print(\"\\n5-fold Cross-Validation Results:\")\n",
        "print(f\"Training Accuracy: {mean_train_acc:.4f} ± {np.std(training_accuracies):.4f}\")\n",
        "print(f\"Validation Accuracy: {mean_val_acc:.4f} ± {np.std(validation_accuracies):.4f}\")\n",
        "\n",
        "# Final evaluation on test set\n",
        "clf.fit(X_train_scaled, Y_train_labels)\n",
        "Y_pred = clf.predict(X_test_scaled)\n",
        "\n",
        "print(\"\\nFinal Model Evaluation on Test Set:\")\n",
        "print(\"\\nConfusion Matrix:\\n\", confusion_matrix(Y_test_labels, Y_pred))\n",
        "print(\"\\nClassification Report:\\n\", classification_report(Y_test_labels, Y_pred))"
      ],
      "metadata": {
        "colab": {
          "base_uri": "https://localhost:8080/"
        },
        "id": "00jJQxE8ezmB",
        "outputId": "8692ffe4-385b-4d6d-aec2-6be2b81c5754"
      },
      "execution_count": 3,
      "outputs": [
        {
          "output_type": "stream",
          "name": "stderr",
          "text": [
            "/usr/local/lib/python3.10/dist-packages/ipykernel/ipkernel.py:283: DeprecationWarning: `should_run_async` will not call `transform_cell` automatically in the future. Please pass the result to `transformed_cell` argument and any exception that happen during thetransform in `preprocessing_exc_tuple` in IPython 7.17 and above.\n",
            "  0%|          | 0/140 [00:00<?, ?it/s]<frozen importlib._bootstrap>:914: ImportWarning: _PyDrive2ImportHook.find_spec() not found; falling back to find_module()\n",
            "<frozen importlib._bootstrap>:914: ImportWarning: _PyDriveImportHook.find_spec() not found; falling back to find_module()\n",
            "<frozen importlib._bootstrap>:914: ImportWarning: _GenerativeAIImportHook.find_spec() not found; falling back to find_module()\n",
            "<frozen importlib._bootstrap>:914: ImportWarning: _OpenCVImportHook.find_spec() not found; falling back to find_module()\n",
            "<frozen importlib._bootstrap>:914: ImportWarning: APICoreClientInfoImportHook.find_spec() not found; falling back to find_module()\n",
            "<frozen importlib._bootstrap>:914: ImportWarning: _BokehImportHook.find_spec() not found; falling back to find_module()\n",
            "<frozen importlib._bootstrap>:914: ImportWarning: _AltairImportHook.find_spec() not found; falling back to find_module()\n",
            "100%|██████████| 140/140 [05:47<00:00,  2.48s/it]\n",
            "100%|██████████| 60/60 [02:19<00:00,  2.33s/it]"
          ]
        },
        {
          "output_type": "stream",
          "name": "stdout",
          "text": [
            "\n",
            "Shape of X_train_features: (140, 16)\n",
            "Shape of X_test_features: (60, 16)\n",
            "\n",
            "Performing 5-fold cross-validation...\n",
            "\n",
            "5-fold Cross-Validation Results:\n",
            "Training Accuracy: 0.7286 ± 0.0332\n",
            "Validation Accuracy: 0.6143 ± 0.0525\n",
            "\n",
            "Final Model Evaluation on Test Set:\n",
            "\n",
            "Confusion Matrix:\n",
            " [[15 19]\n",
            " [15 11]]\n",
            "\n",
            "Classification Report:\n",
            "               precision    recall  f1-score   support\n",
            "\n",
            "           0       0.50      0.44      0.47        34\n",
            "           1       0.37      0.42      0.39        26\n",
            "\n",
            "    accuracy                           0.43        60\n",
            "   macro avg       0.43      0.43      0.43        60\n",
            "weighted avg       0.44      0.43      0.44        60\n",
            "\n"
          ]
        },
        {
          "output_type": "stream",
          "name": "stderr",
          "text": [
            "\n"
          ]
        }
      ]
    },
    {
      "cell_type": "markdown",
      "source": [
        "### Experiment Results Summary\n",
        "\n",
        "| **Experiment** | **Changes**                     | **Training Acc.** | **Validation Acc.** | **Overall Acc.** | **Precision (0)** | **Recall (0)** | **Precision (1)** | **Recall (1)** | **Confusion Matrix**                                            | **Time (min)** |\n",
        "|----------------|------------------------------------------|-------------------|---------------------|------------------|-------------------|----------------|-------------------|----------------|------------------------------------------------------------------|----------------|\n",
        "| **#1**         | Original experiment       | 0.6927            | 0.6514              | 0.67             | 0.69              | 0.59           | 0.65              | 0.74           | [[24 17] <br> [11 32]]                                          | 33m 45s          |\n",
        "| **#2**         | Optimized `getPitch` with fixed defaults | 0.6600            | 0.6218              | 0.62             | 0.63              | 0.54           | 0.61              | 0.70           | [[22 19] <br> [13 30]]                                          | 19m 25s          |\n",
        "| **#3**         | Optimized `getPitch`, standardized       | 0.6823            | 0.6425              | 0.67             | 0.69              | 0.59           | 0.65              | 0.74           | [[24 17] <br> [11 32]]                                          | 18m 55s          |\n",
        "| **#4**         | Downsampled to 8000 Hz                   | 0.7098            | 0.6639              | 0.63             | 0.65              | 0.54           | 0.62              | 0.72           | [[22 19] <br> [12 31]]                                          | 7m 19s           |\n",
        "| **#5**| Downsampled, split into 4 segments      | 0.6268            | 0.6500              | 0.65             | 0.82              | 0.49           | 0.56              | 0.87           | [[33 35] <br> [7 45]]                                           | 19m 28s          |\n",
        "| **#6**         | Downsampled, split into 2 segments       | 0.7286            | 0.6143              | 0.43             | 0.50              | 0.44           | 0.37              | 0.42           | [[15 19] <br> [15 11]]                                           | 8m 7s           |\n",
        "\n",
        "Note: The model shown above is Experiment #6.\n",
        "\n",
        "Segmentation plays a crucial role in managing long audio files. Experiment #5, with four 30-second segments, performed relatively well in terms of validation accuracy, precision, and recall. In contrast, Experiment #6 (with only two segments) underperformed, indicating that reducing the number of segments may hinder the model's ability to capture temporal patterns in the audio.\n",
        "\n",
        "In Experiment #4, the training accuracy was 70.98%, and the validation accuracy was 66.39%, showing an overall improvement in accuracy compared to other experiments. However, the precision for deceptive stories (class 0) dropped to 0.65 compared to 0.69 in the original experiment (#1), indicating a decrease in the model's ability to correctly classify deceptive stories. This decline in precision suggests that downsampling to 8000 Hz might have led to a loss of important acoustic features, affecting performance specifically for deceptive stories.\n",
        "\n",
        "In Experiments #1, #2, and #3, adjustments to the getPitch function and standardization resulted in moderate changes in accuracy. For example, Experiment #3 (optimized and standardized getPitch) showed a training accuracy of 68.23% and validation accuracy of 64.25%, which was slightly better than Experiment #2 (66% training, 62.18% validation). These improvements indicate that feature optimization positively impacted model performance, though the changes were moderate.\n",
        "\n",
        "In multiple experiments, including #1, #3, and #4, the recall for true stories (class 1) was consistently higher than for deceptive stories (class 0). For example, in Experiment #1, the recall for true stories was 0.74, while deceptive stories had a recall of 0.59. This suggests that the model tends to identify true stories more reliably, possibly due to class imbalances or more distinguishable features in true stories. This trend was observed across several experiments, supporting the hypothesis that class imbalance or inherent feature differences may cause the model to be biased towards true stories.\n",
        "\n",
        "Segmentation and feature engineering are key aspects of improving performance in audio classification tasks. The experiments with multiple segments (Experiments #5 and #6) highlight the importance of segmenting audio properly to balance accuracy and model performance. Downsampling can help reduce computational complexity but should be tested carefully, as it may degrade model performance on some tasks like deception detection, which rely on fine-grained acoustic details."
      ],
      "metadata": {
        "id": "7aH9RwJHhzAO"
      }
    },
    {
      "cell_type": "markdown",
      "metadata": {
        "id": "fSrJCR_cekPO"
      },
      "source": [
        "# 7 Conclusions\n",
        "\n",
        "Based on the results of the experiments, it appears that Experiment #5, which included downsampling the audio to 8000 Hz and segmenting the files into four 30-second segments, is the optimal model. Despite the relatively modest overall accuracy of 65%, this experiment provides the best balance between training and validation performance, with a noticeable improvement in recall for true stories (class 1) at 87%. However, there are still several areas for improvement.\n",
        "\n",
        "The recurrent trend of higher recall for true stories than for deceptive stories suggests that there may be class imbalances affecting model performance. Techniques like class weighting or adjusting the decision threshold could help improve the model's recall for deceptive stories (class 0) without sacrificing performance on true stories.\n",
        "\n",
        "Although the optimizations in Experiment #1, #2, and #3 showed moderate improvements, further refinement of the feature extraction process, particularly exploring additional acoustic features (e.g. speech rate, vocal fry), could help boost performance. It would be beneficial to experiment with features that may be more sensitive to deceptive storytelling.\n",
        "\n",
        "Downsampling to 8000 Hz in Experiment #4 helped reduce time complexity but caused a slight degradation in performance. A deeper analysis of which frequency ranges are most important for deception detection could guide whether other downsampling rates would preserve critical audio features while reducing model complexity."
      ]
    },
    {
      "cell_type": "markdown",
      "metadata": {
        "id": "4pIqNdwAu-WO"
      },
      "source": [
        "# 8 References\n",
        "\n",
        "MLEnd 2024 Starter Kit Lab\n",
        "\n",
        "Lecture Slides"
      ]
    }
  ],
  "metadata": {
    "colab": {
      "provenance": []
    },
    "kernelspec": {
      "display_name": "Python 3 (ipykernel)",
      "language": "python",
      "name": "python3"
    },
    "language_info": {
      "codemirror_mode": {
        "name": "ipython",
        "version": 3
      },
      "file_extension": ".py",
      "mimetype": "text/x-python",
      "name": "python",
      "nbconvert_exporter": "python",
      "pygments_lexer": "ipython3",
      "version": "3.10.9"
    }
  },
  "nbformat": 4,
  "nbformat_minor": 0
}